{
 "cells": [
  {
   "cell_type": "markdown",
   "id": "96ea6e07",
   "metadata": {},
   "source": [
    "# 阶段三：剩余三角形结构展示\n",
    "\n",
    "本 notebook 展示几类代表性市场与价格区间 F 下，Passive 中介所诱导的消费者-生产者剩余三角形结构。"
   ]
  },
  {
   "cell_type": "code",
   "execution_count": 2,
   "id": "ff8719aa",
   "metadata": {},
   "outputs": [],
   "source": [
    "\n",
    "import numpy as np\n",
    "import sys, os\n",
    "project_root = os.path.abspath(os.path.join(os.getcwd(), \"..\"))\n",
    "if project_root not in sys.path:\n",
    "    sys.path.append(project_root)\n",
    "\n",
    "from algorithms.market import Market\n",
    "from algorithms.passive_ps_max import passive_ps_max\n",
    "from utils.market_generator import MarketGenerator\n",
    "from utils.visualization import plot_feasibility_heatmap\n",
    "from utils.triangle_utils import compute_surplus_triangle, triangle_features\n",
    "import matplotlib.pyplot as plt\n"
   ]
  },
  {
   "cell_type": "markdown",
   "id": "ad70a4c4",
   "metadata": {},
   "source": [
    "## 示例 1：Binary 分布 Market"
   ]
  },
  {
   "cell_type": "code",
   "execution_count": 3,
   "id": "ba448341",
   "metadata": {},
   "outputs": [
    {
     "name": "stdout",
     "output_type": "stream",
     "text": [
      "\n",
      "Executing PassivePSMax algorithm:\n",
      "Market: Market(values=[ 1 10], masses=[0.5 0.5])\n",
      "Price set F: [1, 10]\n",
      "\n",
      "Iteration 1:\n",
      "Remaining market: Market(values=[ 1 10], masses=[0.5 0.5])\n",
      "Selected optimal F price: 10\n",
      "Support set: [10]\n",
      "No valid gamma found, stopping\n"
     ]
    },
    {
     "ename": "AttributeError",
     "evalue": "'NoneType' object has no attribute 'segments'",
     "output_type": "error",
     "traceback": [
      "\u001b[1;31m---------------------------------------------------------------------------\u001b[0m",
      "\u001b[1;31mAttributeError\u001b[0m                            Traceback (most recent call last)",
      "Cell \u001b[1;32mIn[3], line 8\u001b[0m\n\u001b[0;32m      6\u001b[0m \u001b[38;5;66;03m# 构造方案并绘制三角形\u001b[39;00m\n\u001b[0;32m      7\u001b[0m scheme \u001b[38;5;241m=\u001b[39m passive_ps_max(market, F, debug\u001b[38;5;241m=\u001b[39m\u001b[38;5;28;01mTrue\u001b[39;00m)\n\u001b[1;32m----> 8\u001b[0m vertices, area \u001b[38;5;241m=\u001b[39m \u001b[43mcompute_surplus_triangle\u001b[49m\u001b[43m(\u001b[49m\u001b[43mmarket\u001b[49m\u001b[43m,\u001b[49m\u001b[43m \u001b[49m\u001b[43mF\u001b[49m\u001b[43m,\u001b[49m\u001b[43m \u001b[49m\u001b[43mscheme\u001b[49m\u001b[43m)\u001b[49m\n\u001b[0;32m     10\u001b[0m \u001b[38;5;66;03m# 可视化\u001b[39;00m\n\u001b[0;32m     11\u001b[0m plt\u001b[38;5;241m.\u001b[39mfigure(figsize\u001b[38;5;241m=\u001b[39m(\u001b[38;5;241m5\u001b[39m,\u001b[38;5;241m5\u001b[39m))\n",
      "File \u001b[1;32m~\\Downloads\\毕业论文\\代码\\price_discrimination\\utils\\triangle_utils.py:22\u001b[0m, in \u001b[0;36mcompute_surplus_triangle\u001b[1;34m(market, price_set, scheme)\u001b[0m\n\u001b[0;32m     19\u001b[0m ys \u001b[38;5;241m=\u001b[39m []\n\u001b[0;32m     21\u001b[0m cumulative_mass \u001b[38;5;241m=\u001b[39m \u001b[38;5;241m0.0\u001b[39m\n\u001b[1;32m---> 22\u001b[0m \u001b[38;5;28;01mfor\u001b[39;00m segment, price \u001b[38;5;129;01min\u001b[39;00m \u001b[38;5;28mzip\u001b[39m(\u001b[43mscheme\u001b[49m\u001b[38;5;241;43m.\u001b[39;49m\u001b[43msegments\u001b[49m, scheme\u001b[38;5;241m.\u001b[39mprices):\n\u001b[0;32m     23\u001b[0m     total_mass \u001b[38;5;241m=\u001b[39m np\u001b[38;5;241m.\u001b[39msum(segment\u001b[38;5;241m.\u001b[39mmasses)\n\u001b[0;32m     24\u001b[0m     surplus \u001b[38;5;241m=\u001b[39m np\u001b[38;5;241m.\u001b[39msum(segment\u001b[38;5;241m.\u001b[39mvalues \u001b[38;5;241m*\u001b[39m segment\u001b[38;5;241m.\u001b[39mmasses) \u001b[38;5;241m-\u001b[39m price \u001b[38;5;241m*\u001b[39m total_mass\n",
      "\u001b[1;31mAttributeError\u001b[0m: 'NoneType' object has no attribute 'segments'"
     ]
    }
   ],
   "source": [
    "\n",
    "# 构造 Market\n",
    "values, masses = MarketGenerator.binary(p=0.5, low=1, high=10)\n",
    "market = Market(values, masses)\n",
    "F = [1, 10]\n",
    "\n",
    "# 构造方案并绘制三角形\n",
    "scheme = passive_ps_max(market, F, debug=True)\n",
    "vertices, area = compute_surplus_triangle(market, F, scheme)\n",
    "\n",
    "# 可视化\n",
    "plt.figure(figsize=(5,5))\n",
    "from matplotlib import pyplot as plt\n",
    "from triangle_utils import plot_surplus_triangle\n",
    "plot_surplus_triangle(vertices, label=\"Passive (Binary)\", color=\"red\")\n",
    "print(\"顶点坐标:\", vertices)\n",
    "print(\"面积:\", area)\n",
    "print(\"几何特征:\", triangle_features(vertices))\n"
   ]
  },
  {
   "cell_type": "markdown",
   "id": "16225636",
   "metadata": {},
   "source": [
    "## 示例 2：Geometric 分布 Market"
   ]
  },
  {
   "cell_type": "code",
   "execution_count": null,
   "id": "6f3f50c5",
   "metadata": {},
   "outputs": [],
   "source": [
    "\n",
    "values, masses = MarketGenerator.geometric(q=0.4, n=5)\n",
    "market = Market(values, masses)\n",
    "F = [1, 2, 4]\n",
    "\n",
    "scheme = passive_ps_max(market, F, debug=True)\n",
    "vertices, area = compute_surplus_triangle(market, F, scheme)\n",
    "\n",
    "plt.figure(figsize=(5,5))\n",
    "plot_surplus_triangle(vertices, label=\"Passive (Geometric)\", color=\"red\")\n",
    "print(\"顶点坐标:\", vertices)\n",
    "print(\"面积:\", area)\n",
    "print(\"几何特征:\", triangle_features(vertices))\n"
   ]
  },
  {
   "cell_type": "markdown",
   "id": "6f7083cd",
   "metadata": {},
   "source": [
    "## 示例 3：截断正态分布 Market"
   ]
  },
  {
   "cell_type": "code",
   "execution_count": null,
   "id": "604d450b",
   "metadata": {},
   "outputs": [],
   "source": [
    "\n",
    "values, masses = MarketGenerator.truncated_normal(mu=5, sigma=1.5, n=5)\n",
    "market = Market(values, masses)\n",
    "F = [4, 5, 6]\n",
    "\n",
    "scheme = passive_ps_max(market, F, debug=True)\n",
    "vertices, area = compute_surplus_triangle(market, F, scheme)\n",
    "\n",
    "plt.figure(figsize=(5,5))\n",
    "plot_surplus_triangle(vertices, label=\"Passive (Normal)\", color=\"red\")\n",
    "print(\"顶点坐标:\", vertices)\n",
    "print(\"面积:\", area)\n",
    "print(\"几何特征:\", triangle_features(vertices))\n"
   ]
  }
 ],
 "metadata": {
  "kernelspec": {
   "display_name": "Python 3 (ipykernel)",
   "language": "python",
   "name": "python3"
  },
  "language_info": {
   "codemirror_mode": {
    "name": "ipython",
    "version": 3
   },
   "file_extension": ".py",
   "mimetype": "text/x-python",
   "name": "python",
   "nbconvert_exporter": "python",
   "pygments_lexer": "ipython3",
   "version": "3.9.19"
  }
 },
 "nbformat": 4,
 "nbformat_minor": 5
}
