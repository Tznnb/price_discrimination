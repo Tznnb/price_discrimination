{
 "cells": [
  {
   "cell_type": "markdown",
   "id": "37369679",
   "metadata": {},
   "source": [
    "# 区间可行性分布趋势与结构展示"
   ]
  },
  {
   "cell_type": "markdown",
   "id": "d6c17835",
   "metadata": {},
   "source": [
    "\n",
    "本实验 Notebook 按分布类型展示参数变化下的价格区间可行性结构。  \n",
    "每个分布模块包含：\n",
    "1. 参数扫描趋势图（Feasibility Trend）\n",
    "2. 典型参数下的热力图展示\n",
    "3. 每个热图后的结构分析输出\n"
   ]
  },
  {
   "cell_type": "code",
   "execution_count": 1,
   "id": "0c7ddab8",
   "metadata": {},
   "outputs": [
    {
     "ename": "ImportError",
     "evalue": "cannot import name 'plot_feasibility_trend' from 'utils.visualization' (C:\\Users\\Tzn\\Downloads\\毕业论文\\代码\\price_discrimination\\utils\\visualization.py)",
     "output_type": "error",
     "traceback": [
      "\u001b[1;31m---------------------------------------------------------------------------\u001b[0m",
      "\u001b[1;31mImportError\u001b[0m                               Traceback (most recent call last)",
      "Cell \u001b[1;32mIn[1], line 11\u001b[0m\n\u001b[0;32m      9\u001b[0m \u001b[38;5;28;01mfrom\u001b[39;00m \u001b[38;5;21;01mutils\u001b[39;00m\u001b[38;5;21;01m.\u001b[39;00m\u001b[38;5;21;01mmarket_generator\u001b[39;00m \u001b[38;5;28;01mimport\u001b[39;00m MarketGenerator\n\u001b[0;32m     10\u001b[0m \u001b[38;5;28;01mfrom\u001b[39;00m \u001b[38;5;21;01mutils\u001b[39;00m\u001b[38;5;21;01m.\u001b[39;00m\u001b[38;5;21;01mfeasibility_analysis\u001b[39;00m \u001b[38;5;28;01mimport\u001b[39;00m analyze_feasibility_matrix\n\u001b[1;32m---> 11\u001b[0m \u001b[38;5;28;01mfrom\u001b[39;00m \u001b[38;5;21;01mutils\u001b[39;00m\u001b[38;5;21;01m.\u001b[39;00m\u001b[38;5;21;01mvisualization\u001b[39;00m \u001b[38;5;28;01mimport\u001b[39;00m plot_feasibility_heatmap, plot_feasibility_trend\n",
      "\u001b[1;31mImportError\u001b[0m: cannot import name 'plot_feasibility_trend' from 'utils.visualization' (C:\\Users\\Tzn\\Downloads\\毕业论文\\代码\\price_discrimination\\utils\\visualization.py)"
     ]
    }
   ],
   "source": [
    "\n",
    "import numpy as np\n",
    "import sys, os\n",
    "project_root = os.path.abspath(os.path.join(os.getcwd(), \"..\"))\n",
    "if project_root not in sys.path:\n",
    "    sys.path.append(project_root)\n",
    "\n",
    "from algorithms.market import Market\n",
    "from experiments.feasibility_grid import generate_feasibility_grid\n",
    "from utils.market_generator import MarketGenerator\n",
    "from utils.feasibility_analysis import analyze_feasibility_matrix\n",
    "from utils.visualization import plot_feasibility_heatmap, plot_feasibility_trend\n"
   ]
  },
  {
   "cell_type": "markdown",
   "id": "fda64c65",
   "metadata": {},
   "source": [
    "## 🔹 分布一：截断正态分布 (μ=5, σ ∈ [0.5, 3.0])"
   ]
  },
  {
   "cell_type": "code",
   "execution_count": null,
   "id": "cd792e79",
   "metadata": {},
   "outputs": [],
   "source": [
    "\n",
    "sigmas = np.linspace(0.5, 3.0, 6)\n",
    "results = []\n",
    "\n",
    "# 参数趋势数据收集\n",
    "for sigma in sigmas:\n",
    "    values, masses = MarketGenerator.truncated_normal(mu=5, sigma=sigma, n=5)\n",
    "    market = Market(values, masses)\n",
    "    matrix = generate_feasibility_grid(market)\n",
    "    metrics = analyze_feasibility_matrix(values, matrix, verbose=False)\n",
    "    results.append(metrics)\n",
    "\n",
    "# 趋势图绘制\n",
    "plot_feasibility_trend(sigmas, results, title=\"Feasibility Trend - Truncated Normal\")\n"
   ]
  },
  {
   "cell_type": "code",
   "execution_count": null,
   "id": "8c478d87",
   "metadata": {},
   "outputs": [],
   "source": [
    "\n",
    "for sigma in [0.5, 1.5, 3.0]:\n",
    "    print(f\"\\n▶️ 热图展示：σ = {sigma}\")\n",
    "    values, masses = MarketGenerator.truncated_normal(mu=5, sigma=sigma, n=5)\n",
    "    market = Market(values, masses)\n",
    "    matrix = generate_feasibility_grid(market)\n",
    "    plot_feasibility_heatmap(values, matrix)\n",
    "    analyze_feasibility_matrix(values, matrix)\n"
   ]
  },
  {
   "cell_type": "markdown",
   "id": "43b89203",
   "metadata": {},
   "source": [
    "## 🔹 分布二：幂律分布 (α ∈ [1.5, 3.0])"
   ]
  },
  {
   "cell_type": "code",
   "execution_count": null,
   "id": "d7e8d09e",
   "metadata": {},
   "outputs": [],
   "source": [
    "\n",
    "alphas = np.linspace(1.5, 3.0, 6)\n",
    "results = []\n",
    "\n",
    "for alpha in alphas:\n",
    "    values, masses = MarketGenerator.powerlaw(alpha=alpha, n=5)\n",
    "    market = Market(values, masses)\n",
    "    matrix = generate_feasibility_grid(market)\n",
    "    metrics = analyze_feasibility_matrix(values, matrix, verbose=False)\n",
    "    results.append(metrics)\n",
    "\n",
    "plot_feasibility_trend(alphas, results, title=\"Feasibility Trend - PowerLaw\")\n"
   ]
  },
  {
   "cell_type": "code",
   "execution_count": null,
   "id": "ce7513d0",
   "metadata": {},
   "outputs": [],
   "source": [
    "\n",
    "for alpha in [1.5, 2.0, 3.0]:\n",
    "    print(f\"\\n▶️ 热图展示：α = {alpha}\")\n",
    "    values, masses = MarketGenerator.powerlaw(alpha=alpha, n=5)\n",
    "    market = Market(values, masses)\n",
    "    matrix = generate_feasibility_grid(market)\n",
    "    plot_feasibility_heatmap(values, matrix)\n",
    "    analyze_feasibility_matrix(values, matrix)\n"
   ]
  },
  {
   "cell_type": "markdown",
   "id": "fecd5605",
   "metadata": {},
   "source": [
    "## 🔹 分布三：二项型分布 (p ∈ [0.1, 0.9])"
   ]
  },
  {
   "cell_type": "code",
   "execution_count": null,
   "id": "159c277b",
   "metadata": {},
   "outputs": [],
   "source": [
    "\n",
    "ps = np.linspace(0.1, 0.9, 5)\n",
    "results = []\n",
    "\n",
    "for p in ps:\n",
    "    values, masses = MarketGenerator.binary(p=p, low=1, high=10)\n",
    "    market = Market(values, masses)\n",
    "    matrix = generate_feasibility_grid(market)\n",
    "    metrics = analyze_feasibility_matrix(values, matrix, verbose=False)\n",
    "    results.append(metrics)\n",
    "\n",
    "plot_feasibility_trend(ps, results, title=\"Feasibility Trend - Binary (1 vs 10)\")\n"
   ]
  },
  {
   "cell_type": "code",
   "execution_count": null,
   "id": "8d3cf87d",
   "metadata": {},
   "outputs": [],
   "source": [
    "\n",
    "for p in [0.1, 0.5, 0.9]:\n",
    "    print(f\"\\n▶️ 热图展示：p = {p}\")\n",
    "    values, masses = MarketGenerator.binary(p=p, low=1, high=10)\n",
    "    market = Market(values, masses)\n",
    "    matrix = generate_feasibility_grid(market)\n",
    "    plot_feasibility_heatmap(values, matrix)\n",
    "    analyze_feasibility_matrix(values, matrix)\n"
   ]
  },
  {
   "cell_type": "markdown",
   "id": "1bd0ffcd",
   "metadata": {},
   "source": [
    "## 🔹 分布四：双峰分布 (权重 ∈ [0.2, 0.8])"
   ]
  },
  {
   "cell_type": "code",
   "execution_count": null,
   "id": "b379e556",
   "metadata": {},
   "outputs": [],
   "source": [
    "\n",
    "weights = np.linspace(0.2, 0.8, 5)\n",
    "results = []\n",
    "\n",
    "for w in weights:\n",
    "    values, masses = MarketGenerator.bimodal([1, 2], [9, 10], weight=w)\n",
    "    market = Market(values, masses)\n",
    "    matrix = generate_feasibility_grid(market)\n",
    "    metrics = analyze_feasibility_matrix(values, matrix, verbose=False)\n",
    "    results.append(metrics)\n",
    "\n",
    "plot_feasibility_trend(weights, results, title=\"Feasibility Trend - Bimodal (1-2 vs 9-10)\")\n"
   ]
  },
  {
   "cell_type": "code",
   "execution_count": null,
   "id": "e236a3b2",
   "metadata": {},
   "outputs": [],
   "source": [
    "\n",
    "for w in [0.2, 0.5, 0.8]:\n",
    "    print(f\"\\n▶️ 热图展示：双峰权重 = {w}\")\n",
    "    values, masses = MarketGenerator.bimodal([1, 2], [9, 10], weight=w)\n",
    "    market = Market(values, masses)\n",
    "    matrix = generate_feasibility_grid(market)\n",
    "    plot_feasibility_heatmap(values, matrix)\n",
    "    analyze_feasibility_matrix(values, matrix)\n"
   ]
  }
 ],
 "metadata": {
  "kernelspec": {
   "display_name": "Python 3 (ipykernel)",
   "language": "python",
   "name": "python3"
  },
  "language_info": {
   "codemirror_mode": {
    "name": "ipython",
    "version": 3
   },
   "file_extension": ".py",
   "mimetype": "text/x-python",
   "name": "python",
   "nbconvert_exporter": "python",
   "pygments_lexer": "ipython3",
   "version": "3.9.19"
  }
 },
 "nbformat": 4,
 "nbformat_minor": 5
}
