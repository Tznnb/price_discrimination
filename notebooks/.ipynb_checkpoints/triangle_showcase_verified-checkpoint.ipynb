{
 "cells": [
  {
   "cell_type": "markdown",
   "id": "8a1a4be9",
   "metadata": {},
   "source": [
    "# ✅ 阶段三：真实可行三角形结构展示"
   ]
  },
  {
   "cell_type": "code",
   "execution_count": 1,
   "id": "8df18747",
   "metadata": {},
   "outputs": [],
   "source": [
    "\n",
    "import numpy as np\n",
    "import sys, os\n",
    "project_root = os.path.abspath(os.path.join(os.getcwd(), \"..\"))\n",
    "if project_root not in sys.path:\n",
    "    sys.path.append(project_root)\n",
    "\n",
    "from algorithms.market import Market\n",
    "from algorithms.passive_ps_max import passive_ps_max\n",
    "from utils.market_generator import MarketGenerator\n",
    "from utils.visualization import plot_surplus_triangle\n",
    "from utils.visualization import plot_surplus_triangle_from_vertices\n",
    "from utils.triangle_utils import compute_surplus_triangle, triangle_features\n",
    "import matplotlib.pyplot as plt\n"
   ]
  },
  {
   "cell_type": "markdown",
   "id": "2c787fe7",
   "metadata": {},
   "source": [
    "## 示例 1：Geometric 分布\n",
    "- 分布参数: q = 0.5\n",
    "- 价格集: F = [2, 4]"
   ]
  },
  {
   "cell_type": "code",
   "execution_count": 3,
   "id": "4b4384bc",
   "metadata": {},
   "outputs": [
    {
     "name": "stdout",
     "output_type": "stream",
     "text": [
      "\n",
      "Executing PassivePSMax algorithm:\n",
      "Market: Market(values=[ 1  2  4  8 16], masses=[0.51612903 0.25806452 0.12903226 0.06451613 0.03225806])\n",
      "Price set F: [2, 4]\n",
      "\n",
      "Iteration 1:\n",
      "Remaining market: Market(values=[ 1  2  4  8 16], masses=[0.51612903 0.25806452 0.12903226 0.06451613 0.03225806])\n",
      "Selected optimal F price: 2\n",
      "Support set: [1, 2, 8, 16]\n",
      "Calculated gamma: 0.5806451612903226\n",
      "Added segment with price 2\n",
      "Remaining mass: 0.4193548387096774\n",
      "\n",
      "Iteration 2:\n",
      "Remaining market: Market(values=[ 1  2  4  8 16], masses=[0.25806452 0.         0.12903226 0.03225806 0.        ])\n",
      "Selected optimal F price: 4\n",
      "Support set: [1, 4, 8]\n",
      "Calculated gamma: 0.2903225806451613\n",
      "Added segment with price 4\n",
      "Remaining mass: 0.12903225806451613\n",
      "\n",
      "Iteration 3:\n",
      "Remaining market: Market(values=[ 1  2  4  8 16], masses=[0.06451613 0.         0.06451613 0.         0.        ])\n",
      "Selected optimal F price: 4\n",
      "Support set: [1, 4]\n",
      "Calculated gamma: 0.08602150537634408\n",
      "Added segment with price 4\n",
      "Remaining mass: 0.043010752688172046\n",
      "\n",
      "Iteration 4:\n",
      "Remaining market: Market(values=[ 1  2  4  8 16], masses=[0.         0.         0.04301075 0.         0.        ])\n",
      "Single point case: assigned value 4 to price 2\n",
      "Remaining mass: 0.0\n",
      "Success! Created scheme with 4 segments\n"
     ]
    },
    {
     "ename": "NameError",
     "evalue": "name 'plot_surplus_triangle_from_vertices' is not defined",
     "output_type": "error",
     "traceback": [
      "\u001b[1;31m---------------------------------------------------------------------------\u001b[0m",
      "\u001b[1;31mNameError\u001b[0m                                 Traceback (most recent call last)",
      "Cell \u001b[1;32mIn[3], line 9\u001b[0m\n\u001b[0;32m      7\u001b[0m vertices, area \u001b[38;5;241m=\u001b[39m compute_surplus_triangle(market, F, scheme)\n\u001b[0;32m      8\u001b[0m plt\u001b[38;5;241m.\u001b[39mfigure(figsize\u001b[38;5;241m=\u001b[39m(\u001b[38;5;241m5\u001b[39m,\u001b[38;5;241m5\u001b[39m))\n\u001b[1;32m----> 9\u001b[0m \u001b[43mplot_surplus_triangle_from_vertices\u001b[49m(vertices, label\u001b[38;5;241m=\u001b[39m\u001b[38;5;124m\"\u001b[39m\u001b[38;5;124mPassive (Geometric)\u001b[39m\u001b[38;5;124m\"\u001b[39m, color\u001b[38;5;241m=\u001b[39m\u001b[38;5;124m\"\u001b[39m\u001b[38;5;124mred\u001b[39m\u001b[38;5;124m\"\u001b[39m)\n\u001b[0;32m     10\u001b[0m \u001b[38;5;28mprint\u001b[39m(\u001b[38;5;124m\"\u001b[39m\u001b[38;5;124m顶点坐标:\u001b[39m\u001b[38;5;124m\"\u001b[39m, vertices)\n\u001b[0;32m     11\u001b[0m \u001b[38;5;28mprint\u001b[39m(\u001b[38;5;124m\"\u001b[39m\u001b[38;5;124m面积:\u001b[39m\u001b[38;5;124m\"\u001b[39m, area)\n",
      "\u001b[1;31mNameError\u001b[0m: name 'plot_surplus_triangle_from_vertices' is not defined"
     ]
    },
    {
     "data": {
      "text/plain": [
       "<Figure size 500x500 with 0 Axes>"
      ]
     },
     "metadata": {},
     "output_type": "display_data"
    }
   ],
   "source": [
    "\n",
    "values, masses = MarketGenerator.geometric(q=0.5, n=5)\n",
    "market = Market(values, masses)\n",
    "F = [2, 4]\n",
    "\n",
    "scheme = passive_ps_max(market, F, debug=True)\n",
    "if scheme:\n",
    "    vertices, area = compute_surplus_triangle(market, F, scheme)\n",
    "    plt.figure(figsize=(5,5))\n",
    "    plot_surplus_triangle_from_vertices(vertices, label=\"Passive (Geometric)\", color=\"red\")\n",
    "    print(\"顶点坐标:\", vertices)\n",
    "    print(\"面积:\", area)\n",
    "    print(\"几何特征:\", triangle_features(vertices))\n",
    "else:\n",
    "    print(\"⚠️ F 不可行，无法构建三角形\")\n"
   ]
  },
  {
   "cell_type": "markdown",
   "id": "fc75d2f8",
   "metadata": {},
   "source": [
    "## 示例 2：Binary 分布\n",
    "- 分布参数: p = 0.5\n",
    "- 价格集: F = [1, 10]"
   ]
  },
  {
   "cell_type": "code",
   "execution_count": null,
   "id": "9da4dacb",
   "metadata": {},
   "outputs": [],
   "source": [
    "\n",
    "values, masses = MarketGenerator.binary(p=0.5, low=1, high=10)\n",
    "market = Market(values, masses)\n",
    "F = [1, 10]\n",
    "\n",
    "scheme = passive_ps_max(market, F, debug=True)\n",
    "if scheme:\n",
    "    vertices, area = compute_surplus_triangle(market, F, scheme)\n",
    "    plt.figure(figsize=(5,5))\n",
    "    plot_surplus_triangle_from_vertices(vertices, label=\"Passive (Binary)\", color=\"red\")\n",
    "    print(\"顶点坐标:\", vertices)\n",
    "    print(\"面积:\", area)\n",
    "    print(\"几何特征:\", triangle_features(vertices))\n",
    "else:\n",
    "    print(\"⚠️ F 不可行，无法构建三角形\")\n"
   ]
  },
  {
   "cell_type": "markdown",
   "id": "73638f53",
   "metadata": {},
   "source": [
    "## 示例 3：截断正态分布\n",
    "- σ = 1.0\n",
    "- F = [3.5, 5.5, 7.5]"
   ]
  },
  {
   "cell_type": "code",
   "execution_count": null,
   "id": "4f5ff008",
   "metadata": {},
   "outputs": [],
   "source": [
    "\n",
    "values, masses = MarketGenerator.truncated_normal(mu=5, sigma=1.0, n=5)\n",
    "market = Market(values, masses)\n",
    "F = [3.5, 5.5, 7.5]\n",
    "\n",
    "scheme = passive_ps_max(market, F, debug=True)\n",
    "if scheme:\n",
    "    vertices, area = compute_surplus_triangle(market, F, scheme)\n",
    "    plt.figure(figsize=(5,5))\n",
    "    plot_surplus_triangle_from_vertices(vertices, label=\"Passive (Normal)\", color=\"red\")\n",
    "    print(\"顶点坐标:\", vertices)\n",
    "    print(\"面积:\", area)\n",
    "    print(\"几何特征:\", triangle_features(vertices))\n",
    "else:\n",
    "    print(\"⚠️ F 不可行，无法构建三角形\")\n"
   ]
  }
 ],
 "metadata": {
  "kernelspec": {
   "display_name": "Python 3 (ipykernel)",
   "language": "python",
   "name": "python3"
  },
  "language_info": {
   "codemirror_mode": {
    "name": "ipython",
    "version": 3
   },
   "file_extension": ".py",
   "mimetype": "text/x-python",
   "name": "python",
   "nbconvert_exporter": "python",
   "pygments_lexer": "ipython3",
   "version": "3.9.19"
  }
 },
 "nbformat": 4,
 "nbformat_minor": 5
}
