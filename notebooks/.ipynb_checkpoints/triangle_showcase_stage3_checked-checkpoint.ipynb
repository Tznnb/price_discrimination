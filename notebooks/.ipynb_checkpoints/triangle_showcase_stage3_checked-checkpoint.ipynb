{
 "cells": [
  {
   "cell_type": "markdown",
   "id": "6b5b5012",
   "metadata": {},
   "source": [
    "# 阶段三：剩余三角形结构展示（含可行性判断）"
   ]
  },
  {
   "cell_type": "code",
   "execution_count": 1,
   "id": "8898c5c8",
   "metadata": {},
   "outputs": [],
   "source": [
    "\n",
    "import numpy as np\n",
    "import sys, os\n",
    "project_root = os.path.abspath(os.path.join(os.getcwd(), \"..\"))\n",
    "if project_root not in sys.path:\n",
    "    sys.path.append(project_root)\n",
    "\n",
    "from algorithms.market import Market\n",
    "from algorithms.passive_ps_max import passive_ps_max\n",
    "from utils.market_generator import MarketGenerator\n",
    "from utils.visualization import plot_feasibility_heatmap, plot_surplus_triangle\n",
    "from utils.triangle_utils import compute_surplus_triangle, triangle_features\n",
    "import matplotlib.pyplot as plt\n"
   ]
  },
  {
   "cell_type": "markdown",
   "id": "7ebaaa24",
   "metadata": {},
   "source": [
    "## 示例 1：Binary 分布 Market"
   ]
  },
  {
   "cell_type": "code",
   "execution_count": 2,
   "id": "5960c724",
   "metadata": {},
   "outputs": [
    {
     "name": "stdout",
     "output_type": "stream",
     "text": [
      "\n",
      "Executing PassivePSMax algorithm:\n",
      "Market: Market(values=[ 1 10], masses=[0.5 0.5])\n",
      "Price set F: [1, 10]\n",
      "\n",
      "Iteration 1:\n",
      "Remaining market: Market(values=[ 1 10], masses=[0.5 0.5])\n",
      "Selected optimal F price: 10\n",
      "Support set: [10]\n",
      "No valid gamma found, stopping\n",
      "⚠️ F 不可行，无法构建三角形\n"
     ]
    }
   ],
   "source": [
    "\n",
    "values, masses = MarketGenerator.binary(p=0.5, low=1, high=10)\n",
    "market = Market(values, masses)\n",
    "F = [1, 10]\n",
    "\n",
    "scheme = passive_ps_max(market, F, debug=True)\n",
    "if scheme:\n",
    "    vertices, area = compute_surplus_triangle(market, F, scheme)\n",
    "    plt.figure(figsize=(5,5))\n",
    "    plot_surplus_triangle(vertices, label=\"Passive (Binary)\", color=\"red\")\n",
    "    print(\"顶点坐标:\", vertices)\n",
    "    print(\"面积:\", area)\n",
    "    print(\"几何特征:\", triangle_features(vertices))\n",
    "else:\n",
    "    print(\"⚠️ F 不可行，无法构建三角形\")\n"
   ]
  },
  {
   "cell_type": "markdown",
   "id": "f7f4d665",
   "metadata": {},
   "source": [
    "## 示例 2：Geometric 分布 Market"
   ]
  },
  {
   "cell_type": "code",
   "execution_count": 3,
   "id": "7ddbfe1e",
   "metadata": {},
   "outputs": [
    {
     "name": "stdout",
     "output_type": "stream",
     "text": [
      "\n",
      "Executing PassivePSMax algorithm:\n",
      "Market: Market(values=[ 1  2  4  8 16], masses=[0.60620757 0.24248303 0.09699321 0.03879728 0.01551891])\n",
      "Price set F: [1, 2, 4]\n",
      "\n",
      "Iteration 1:\n",
      "Remaining market: Market(values=[ 1  2  4  8 16], masses=[0.60620757 0.24248303 0.09699321 0.03879728 0.01551891])\n",
      "Selected optimal F price: 1\n",
      "Support set: [1, 8, 16]\n",
      "Calculated gamma: 0.27934044616876824\n",
      "Added segment with price 1\n",
      "Remaining mass: 0.7206595538312317\n",
      "\n",
      "Iteration 2:\n",
      "Remaining market: Market(values=[ 1  2  4  8 16], masses=[0.35790495 0.24248303 0.09699321 0.02327837 0.        ])\n",
      "Selected optimal F price: 2\n",
      "Support set: [2, 8]\n",
      "Calculated gamma: 0.11639185257032007\n",
      "Added segment with price 2\n",
      "Remaining mass: 0.6042677012609116\n",
      "\n",
      "Iteration 3:\n",
      "Remaining market: Market(values=[ 1  2  4  8 16], masses=[0.35790495 0.14936954 0.09699321 0.         0.        ])\n",
      "Selected optimal F price: 1\n",
      "Support set: [1]\n",
      "No valid gamma found, stopping\n",
      "⚠️ F 不可行，无法构建三角形\n"
     ]
    }
   ],
   "source": [
    "\n",
    "values, masses = MarketGenerator.geometric(q=0.4, n=5)\n",
    "market = Market(values, masses)\n",
    "F = [1, 2, 4]\n",
    "\n",
    "scheme = passive_ps_max(market, F, debug=True)\n",
    "if scheme:\n",
    "    vertices, area = compute_surplus_triangle(market, F, scheme)\n",
    "    plt.figure(figsize=(5,5))\n",
    "    plot_surplus_triangle(vertices, label=\"Passive (Geometric)\", color=\"red\")\n",
    "    print(\"顶点坐标:\", vertices)\n",
    "    print(\"面积:\", area)\n",
    "    print(\"几何特征:\", triangle_features(vertices))\n",
    "else:\n",
    "    print(\"⚠️ F 不可行，无法构建三角形\")\n"
   ]
  },
  {
   "cell_type": "markdown",
   "id": "9daa54df",
   "metadata": {},
   "source": [
    "## 示例 3：截断正态分布 Market"
   ]
  },
  {
   "cell_type": "code",
   "execution_count": 4,
   "id": "63c02ae2",
   "metadata": {},
   "outputs": [
    {
     "name": "stdout",
     "output_type": "stream",
     "text": [
      "\n",
      "Executing PassivePSMax algorithm:\n",
      "Market: Market(values=[ 1.    3.25  5.5   7.75 10.  ], masses=[0.01709488 0.30301408 0.56610484 0.11147265 0.00231354])\n",
      "Price set F: [4, 5, 6]\n",
      "No valid prices in F, not feasible\n",
      "⚠️ F 不可行，无法构建三角形\n"
     ]
    }
   ],
   "source": [
    "\n",
    "values, masses = MarketGenerator.truncated_normal(mu=5, sigma=1.5, n=5)\n",
    "market = Market(values, masses)\n",
    "F = [4, 5, 6]\n",
    "\n",
    "scheme = passive_ps_max(market, F, debug=True)\n",
    "if scheme:\n",
    "    vertices, area = compute_surplus_triangle(market, F, scheme)\n",
    "    plt.figure(figsize=(5,5))\n",
    "    plot_surplus_triangle(vertices, label=\"Passive (Normal)\", color=\"red\")\n",
    "    print(\"顶点坐标:\", vertices)\n",
    "    print(\"面积:\", area)\n",
    "    print(\"几何特征:\", triangle_features(vertices))\n",
    "else:\n",
    "    print(\"⚠️ F 不可行，无法构建三角形\")\n"
   ]
  }
 ],
 "metadata": {
  "kernelspec": {
   "display_name": "Python 3 (ipykernel)",
   "language": "python",
   "name": "python3"
  },
  "language_info": {
   "codemirror_mode": {
    "name": "ipython",
    "version": 3
   },
   "file_extension": ".py",
   "mimetype": "text/x-python",
   "name": "python",
   "nbconvert_exporter": "python",
   "pygments_lexer": "ipython3",
   "version": "3.9.19"
  }
 },
 "nbformat": 4,
 "nbformat_minor": 5
}
