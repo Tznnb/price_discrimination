{
 "cells": [
  {
   "cell_type": "markdown",
   "id": "3513f395",
   "metadata": {},
   "source": [
    "# 阶段一总结：算法验证与基础实验\n",
    "本 notebook 用于总结《区间规制价格歧视的限制》实验阶段一的主要工作成果，包括核心算法的实现验证、论文示例复现以及基础可视化。"
   ]
  },
  {
   "cell_type": "code",
   "execution_count": 1,
   "id": "d74456f8",
   "metadata": {},
   "outputs": [
    {
     "ename": "ModuleNotFoundError",
     "evalue": "No module named 'algorithms'",
     "output_type": "error",
     "traceback": [
      "\u001b[1;31m---------------------------------------------------------------------------\u001b[0m",
      "\u001b[1;31mModuleNotFoundError\u001b[0m                       Traceback (most recent call last)",
      "Cell \u001b[1;32mIn[1], line 2\u001b[0m\n\u001b[0;32m      1\u001b[0m \u001b[38;5;28;01mimport\u001b[39;00m \u001b[38;5;21;01mnumpy\u001b[39;00m \u001b[38;5;28;01mas\u001b[39;00m \u001b[38;5;21;01mnp\u001b[39;00m\n\u001b[1;32m----> 2\u001b[0m \u001b[38;5;28;01mfrom\u001b[39;00m \u001b[38;5;21;01malgorithms\u001b[39;00m\u001b[38;5;21;01m.\u001b[39;00m\u001b[38;5;21;01mmarket\u001b[39;00m \u001b[38;5;28;01mimport\u001b[39;00m Market\n\u001b[0;32m      3\u001b[0m \u001b[38;5;28;01mfrom\u001b[39;00m \u001b[38;5;21;01malgorithms\u001b[39;00m\u001b[38;5;21;01m.\u001b[39;00m\u001b[38;5;21;01mbbm\u001b[39;00m \u001b[38;5;28;01mimport\u001b[39;00m bbm\n\u001b[0;32m      4\u001b[0m \u001b[38;5;28;01mfrom\u001b[39;00m \u001b[38;5;21;01malgorithms\u001b[39;00m\u001b[38;5;21;01m.\u001b[39;00m\u001b[38;5;21;01mpassive_ps_max\u001b[39;00m \u001b[38;5;28;01mimport\u001b[39;00m passive_ps_max\n",
      "\u001b[1;31mModuleNotFoundError\u001b[0m: No module named 'algorithms'"
     ]
    }
   ],
   "source": [
    "import numpy as np\n",
    "from algorithms.market import Market\n",
    "from algorithms.bbm import bbm\n",
    "from algorithms.passive_ps_max import passive_ps_max\n",
    "from algorithms.feasibility import is_feasible\n",
    "from utils.visualization import plot_market, plot_surplus_triangle"
   ]
  },
  {
   "cell_type": "markdown",
   "id": "35ebb251",
   "metadata": {},
   "source": [
    "## 示例 1.1：无规制下的最优信号划分（BBM算法）"
   ]
  },
  {
   "cell_type": "code",
   "execution_count": null,
   "id": "6809f823",
   "metadata": {},
   "outputs": [],
   "source": [
    "# 市场定义：两种价值，均匀分布\n",
    "values = [1, 5]\n",
    "masses = [0.5, 0.5]\n",
    "market = Market(values, masses)\n",
    "\n",
    "print(\"统一价格最优解：\", market.optimal_price())\n",
    "print(\"统一价格收益：\", market.revenue(market.optimal_price()[0]))\n",
    "\n",
    "# 应用BBM算法\n",
    "scheme = bbm(market)\n",
    "print(\"消费者剩余:\", scheme.consumer_surplus())\n",
    "print(\"生产者剩余:\", scheme.producer_surplus())\n",
    "print(\"社会福利:\", scheme.social_welfare())\n",
    "\n",
    "# 可视化\n",
    "plot_market(market, title=\"Example 1.1 Market\")\n",
    "plot_surplus_triangle(market, scheme, values, title=\"Example 1.1 Triangle\")"
   ]
  },
  {
   "cell_type": "markdown",
   "id": "90952243",
   "metadata": {},
   "source": [
    "## 示例 1.2：Passive 中介下的F可行性与分段方案验证"
   ]
  },
  {
   "cell_type": "code",
   "execution_count": null,
   "id": "d260ea94",
   "metadata": {},
   "outputs": [],
   "source": [
    "# 市场定义\n",
    "values = [1, 4, 5, 10]\n",
    "masses = [0.3, 0.2, 0.2, 0.3]\n",
    "market = Market(values, masses)\n",
    "F = [4, 5]\n",
    "print(\"统一价格最优解：\", market.optimal_price())\n",
    "print(\"统一价格收益：\", market.revenue(market.optimal_price()[0]))\n",
    "\n",
    "# 可行性判断\n",
    "feasible = is_feasible(market, F, debug=True)\n",
    "print(f\"F = {F} 是否可行：\", feasible)\n",
    "\n",
    "if feasible:\n",
    "    scheme = passive_ps_max(market, F)\n",
    "    print(\"消费者剩余:\", scheme.consumer_surplus())\n",
    "    print(\"生产者剩余:\", scheme.producer_surplus())\n",
    "    print(\"社会福利:\", scheme.social_welfare())\n",
    "    plot_market(market, title=\"Example 1.2 Market\")\n",
    "    plot_surplus_triangle(market, scheme, F, title=f\"Example 1.2 Triangle with F={F}\")"
   ]
  },
  {
   "cell_type": "markdown",
   "id": "f6b597f4",
   "metadata": {},
   "source": [
    "### ✅ 总结\n",
    "- 已成功实现并验证 BBM 和 PassivePSMax 算法\n",
    "- 复现了论文中两个经典示例，并生成可视化图形\n",
    "- 阶段一实验系统搭建完毕，为后续阶段提供了算法与工具支持"
   ]
  }
 ],
 "metadata": {
  "kernelspec": {
   "display_name": "Python 3 (ipykernel)",
   "language": "python",
   "name": "python3"
  },
  "language_info": {
   "codemirror_mode": {
    "name": "ipython",
    "version": 3
   },
   "file_extension": ".py",
   "mimetype": "text/x-python",
   "name": "python",
   "nbconvert_exporter": "python",
   "pygments_lexer": "ipython3",
   "version": "3.9.19"
  }
 },
 "nbformat": 4,
 "nbformat_minor": 5
}
