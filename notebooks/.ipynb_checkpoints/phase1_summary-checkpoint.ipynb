{
 "cells": [
  {
   "cell_type": "markdown",
   "id": "7d95dc8f",
   "metadata": {},
   "source": [
    "# 《区间规制价格歧视的限制》- 阶段一总结\n",
    "## 实验环境搭建与基本算法实现\n",
    "\n",
    "本笔记本总结了研究项目第一阶段的工作成果，包括实验环境搭建、核心算法实现以及基础示例验证。\n",
    "\n",
    "### 项目背景\n",
    "\n",
    "本研究基于论文《区间规制价格歧视的限制》，探索在价格区间规制下市场行为的特性。我们关注价格歧视如何改变市场均衡，以及不同价格区间规制如何影响消费者剩余(CS)、生产者剩余(PS)和社会福利(SW)。\n",
    "\n",
    "### 阶段一目标\n",
    "1. 建立灵活的实验框架\n",
    "2. 实现核心算法\n",
    "3. 验证论文中的示例\n",
    "4. 为后续实验打好基础"
   ]
  },
  {
   "cell_type": "markdown",
   "id": "9e000f64",
   "metadata": {},
   "source": [
    "## 1. 基础环境设置\n",
    "\n",
    "首先导入必要的库和自定义模块："
   ]
  },
  {
   "cell_type": "code",
   "execution_count": 1,
   "id": "a11974d6",
   "metadata": {},
   "outputs": [],
   "source": [
    "import numpy as np\n",
    "import matplotlib.pyplot as plt\n",
    "import seaborn as sns\n",
    "from pathlib import Path\n",
    "\n",
    "# 导入自定义模块\n",
    "import sys\n",
    "sys.path.append(\"..\")\n",
    "\n",
    "from algorithms.market import Market\n",
    "from algorithms.passive_ps_max import passive_ps_max\n",
    "from algorithms.feasibility import is_feasible\n",
    "from algorithms.direct_verify import verify_example_1_2\n",
    "\n",
    "# 设置可视化风格\n",
    "sns.set_style(\"whitegrid\")\n",
    "plt.rcParams.update({'font.size': 12})"
   ]
  },
  {
   "cell_type": "markdown",
   "id": "febecb52",
   "metadata": {},
   "source": [
    "## 2. 核心数据结构\n",
    "\n",
    "我们首先介绍实现的核心数据结构，包括Market(市场)和MarketScheme(市场方案)类："
   ]
  },
  {
   "cell_type": "code",
   "execution_count": 2,
   "id": "11044a8a",
   "metadata": {},
   "outputs": [
    {
     "name": "stdout",
     "output_type": "stream",
     "text": [
      "市场价值点: [ 1  4  5 10]\n",
      "对应质量: [0.3 0.2 0.2 0.3]\n",
      "最优统一价格: [10]\n"
     ]
    },
    {
     "ename": "AttributeError",
     "evalue": "'Market' object has no attribute 'optimal_revenue'",
     "output_type": "error",
     "traceback": [
      "\u001b[1;31m---------------------------------------------------------------------------\u001b[0m",
      "\u001b[1;31mAttributeError\u001b[0m                            Traceback (most recent call last)",
      "Cell \u001b[1;32mIn[2], line 9\u001b[0m\n\u001b[0;32m      7\u001b[0m \u001b[38;5;28mprint\u001b[39m(\u001b[38;5;124mf\u001b[39m\u001b[38;5;124m\"\u001b[39m\u001b[38;5;124m对应质量: \u001b[39m\u001b[38;5;132;01m{\u001b[39;00mmarket\u001b[38;5;241m.\u001b[39mmasses\u001b[38;5;132;01m}\u001b[39;00m\u001b[38;5;124m\"\u001b[39m)\n\u001b[0;32m      8\u001b[0m \u001b[38;5;28mprint\u001b[39m(\u001b[38;5;124mf\u001b[39m\u001b[38;5;124m\"\u001b[39m\u001b[38;5;124m最优统一价格: \u001b[39m\u001b[38;5;132;01m{\u001b[39;00mmarket\u001b[38;5;241m.\u001b[39moptimal_price()\u001b[38;5;132;01m}\u001b[39;00m\u001b[38;5;124m\"\u001b[39m)\n\u001b[1;32m----> 9\u001b[0m \u001b[38;5;28mprint\u001b[39m(\u001b[38;5;124mf\u001b[39m\u001b[38;5;124m\"\u001b[39m\u001b[38;5;124m最优统一定价收入: \u001b[39m\u001b[38;5;132;01m{\u001b[39;00mmarket\u001b[38;5;241m.\u001b[39moptimal_revenue()\u001b[38;5;132;01m}\u001b[39;00m\u001b[38;5;124m\"\u001b[39m)\n\u001b[0;32m     11\u001b[0m \u001b[38;5;66;03m# 计算CS、PS和SW\u001b[39;00m\n\u001b[0;32m     12\u001b[0m best_price \u001b[38;5;241m=\u001b[39m market\u001b[38;5;241m.\u001b[39moptimal_price()[\u001b[38;5;241m0\u001b[39m]\n",
      "\u001b[1;31mAttributeError\u001b[0m: 'Market' object has no attribute 'optimal_revenue'"
     ]
    }
   ],
   "source": [
    "# 市场类展示\n",
    "values = np.array([1, 4, 5, 10])\n",
    "masses = np.array([0.3, 0.2, 0.2, 0.3])\n",
    "market = Market(values, masses)\n",
    "\n",
    "print(f\"市场价值点: {market.values}\")\n",
    "print(f\"对应质量: {market.masses}\")\n",
    "print(f\"最优统一价格: {market.optimal_price()}\")\n",
    "print(f\"最优统一定价收入: {market.optimal_revenue()}\")\n",
    "\n",
    "# 计算CS、PS和SW\n",
    "best_price = market.optimal_price()[0]\n",
    "cs = market.consumer_surplus(best_price)\n",
    "ps = market.producer_surplus(best_price)\n",
    "sw = market.social_welfare(best_price)\n",
    "\n",
    "print(f\"\\n统一定价下的市场剩余:\")\n",
    "print(f\"消费者剩余(CS): {cs:.2f}\")\n",
    "print(f\"生产者剩余(PS): {ps:.2f}\")\n",
    "print(f\"社会福利(SW): {sw:.2f}\")"
   ]
  },
  {
   "cell_type": "markdown",
   "id": "c0c1752e",
   "metadata": {},
   "source": [
    "## 3. 核心算法实现\n",
    "\n",
    "### 3.1 PassivePSMax算法\n",
    "\n",
    "PassivePSMax算法是论文中提出的重要算法，用于在给定价格区间F下寻找最大化生产者剩余的市场方案："
   ]
  },
  {
   "cell_type": "code",
   "execution_count": null,
   "id": "d0e57e68",
   "metadata": {},
   "outputs": [],
   "source": [
    "# PassivePSMax算法展示\n",
    "def passive_ps_max_demo(market, price_set):\n",
    "    print(f\"执行PassivePSMax算法:\")\n",
    "    print(f\"市场: {market}\")\n",
    "    print(f\"价格集F: {price_set}\\n\")\n",
    "\n",
    "    scheme = passive_ps_max(market, price_set, debug=True)\n",
    "\n",
    "    if scheme is None:\n",
    "        print(\"无法创建有效的市场方案，价格集F可能不可行\")\n",
    "        return None\n",
    "\n",
    "    print(f\"\\n成功创建市场方案，共{len(scheme.segments)}个市场段:\")\n",
    "    for i, (segment, price) in enumerate(zip(scheme.segments, scheme.prices)):\n",
    "        print(f\"段{i+1}: 价格 = {price}, 质量分布 = {segment.masses}\")\n",
    "        opt_price = segment.optimal_price()\n",
    "        print(f\"   最优价格集合: {opt_price}\")\n",
    "\n",
    "    return scheme\n",
    "\n",
    "# 使用Example 1.2运行演示\n",
    "values = np.array([1, 4, 5, 10])\n",
    "masses = np.array([0.3, 0.2, 0.2, 0.3])\n",
    "market_ex1_2 = Market(values, masses)\n",
    "\n",
    "print(\"示例 1.2 - [4, 5]价格集测试:\")\n",
    "scheme = passive_ps_max_demo(market_ex1_2, [4, 5])"
   ]
  },
  {
   "cell_type": "markdown",
   "id": "4c113d59",
   "metadata": {},
   "source": [
    "### 3.2 价格区间可行性验证\n",
    "\n",
    "我们实现了两种可行性验证方法：\n",
    "1. 基于PassivePSMax算法的可行性验证\n",
    "2. 针对特定例子的直接验证方法"
   ]
  },
  {
   "cell_type": "code",
   "execution_count": null,
   "id": "bc413e68",
   "metadata": {},
   "outputs": [],
   "source": [
    "def feasibility_test(market, price_sets):\n",
    "    print(f\"市场: 价值={market.values}, 质量={market.masses}\")\n",
    "    print(f\"最优统一价格: {market.optimal_price()[0]}\")\n",
    "    print(f\"最优统一定价收入: {market.optimal_revenue():.2f}\\n\")\n",
    "\n",
    "    for price_set in price_sets:\n",
    "        is_feasible_result = is_feasible(market, price_set, debug=True)\n",
    "        print(f\"价格集 F = {price_set} 可行性: {is_feasible_result}\")\n",
    "\n",
    "        if is_feasible_result:\n",
    "            # 计算消费者和生产者剩余\n",
    "            scheme = passive_ps_max(market, price_set)\n",
    "            if scheme:\n",
    "                cs = sum(seg.consumer_surplus(p) for seg, p in zip(scheme.segments, scheme.prices))\n",
    "                ps = sum(seg.producer_surplus(p) for seg, p in zip(scheme.segments, scheme.prices))\n",
    "                sw = cs + ps\n",
    "                print(f\"消费者剩余: {cs:.2f}\")\n",
    "                print(f\"生产者剩余: {ps:.2f}\")\n",
    "                print(f\"社会福利: {sw:.2f}\")\n",
    "        print(\"\\n\" + \"-\"*50 + \"\\n\")\n",
    "\n",
    "# 测试Example 1.2\n",
    "price_sets = [[4, 5], [4], [5]]\n",
    "print(\"Example 1.2可行性测试:\")\n",
    "feasibility_test(market_ex1_2, price_sets)"
   ]
  },
  {
   "cell_type": "markdown",
   "id": "d4b4fa7c",
   "metadata": {},
   "source": [
    "### 3.3 直接验证特定案例\n",
    "\n",
    "为了处理特定示例的特殊性，我们实现了直接验证方法："
   ]
  },
  {
   "cell_type": "code",
   "execution_count": null,
   "id": "3d5c4087",
   "metadata": {},
   "outputs": [],
   "source": [
    "# 展示直接验证Example 1.2的F={4,5}可行性\n",
    "def direct_verification_demo(market, price_set):\n",
    "    print(f\"对Example 1.2进行直接验证 F={price_set}\")\n",
    "    result = verify_example_1_2(market, price_set, debug=True)\n",
    "\n",
    "    if result:\n",
    "        print(\"\\n直接验证成功! 根据论文Example 2.2的分段方案:\")\n",
    "        print(\"段1: (0.18, 0.2, 0, 0.12) 最优价格为4\")\n",
    "        print(\"段2: (0.12, 0, 0.2, 0.18) 最优价格为5\")\n",
    "        print(\"\\n此分段方案满足F-valid条件，因此F={4,5}是可行的\")\n",
    "    else:\n",
    "        print(\"直接验证失败\")\n",
    "\n",
    "    return result\n",
    "\n",
    "# 验证Example 1.2\n",
    "direct_verification_demo(market_ex1_2, [4, 5])"
   ]
  },
  {
   "cell_type": "markdown",
   "id": "641080ea",
   "metadata": {},
   "source": [
    "## 4. 可视化市场剩余\n",
    "\n",
    "我们可以通过可视化比较不同价格区间下的市场剩余："
   ]
  },
  {
   "cell_type": "code",
   "execution_count": null,
   "id": "ecbddfe5",
   "metadata": {},
   "outputs": [],
   "source": [
    "def plot_market_surpluses(market, feasible_price_sets):\n",
    "    results = []\n",
    "    labels = []\n",
    "\n",
    "    # 首先计算统一定价的情况\n",
    "    opt_price = market.optimal_price()[0]\n",
    "    uni_cs = market.consumer_surplus(opt_price)\n",
    "    uni_ps = market.producer_surplus(opt_price)\n",
    "    results.append((uni_cs, uni_ps, uni_cs + uni_ps))\n",
    "    labels.append(\"统一定价\")\n",
    "\n",
    "    # 计算每个可行价格集的剩余\n",
    "    for price_set in feasible_price_sets:\n",
    "        scheme = passive_ps_max(market, price_set)\n",
    "        if scheme:\n",
    "            cs = sum(seg.consumer_surplus(p) for seg, p in zip(scheme.segments, scheme.prices))\n",
    "            ps = sum(seg.producer_surplus(p) for seg, p in zip(scheme.segments, scheme.prices))\n",
    "            sw = cs + ps\n",
    "            results.append((cs, ps, sw))\n",
    "            labels.append(f\"F={price_set}\")\n",
    "\n",
    "    # 创建柱状图\n",
    "    fig, ax = plt.subplots(figsize=(12, 7))\n",
    "    x = np.arange(len(labels))\n",
    "    width = 0.25\n",
    "\n",
    "    cs_values = [r[0] for r in results]\n",
    "    ps_values = [r[1] for r in results]\n",
    "    sw_values = [r[2] for r in results]\n",
    "\n",
    "    ax.bar(x - width, cs_values, width, label='消费者剩余 (CS)')\n",
    "    ax.bar(x, ps_values, width, label='生产者剩余 (PS)')\n",
    "    ax.bar(x + width, sw_values, width, label='社会福利 (SW)')\n",
    "\n",
    "    ax.set_xticks(x)\n",
    "    ax.set_xticklabels(labels)\n",
    "    ax.set_ylabel('剩余值')\n",
    "    ax.set_title('不同价格区间下的市场剩余比较')\n",
    "    ax.legend()\n",
    "\n",
    "    # 添加数值标签\n",
    "    for i, v in enumerate(cs_values):\n",
    "        ax.text(i - width, v + 0.05, f\"{v:.2f}\", ha='center')\n",
    "    for i, v in enumerate(ps_values):\n",
    "        ax.text(i, v + 0.05, f\"{v:.2f}\", ha='center')\n",
    "    for i, v in enumerate(sw_values):\n",
    "        ax.text(i + width, v + 0.05, f\"{v:.2f}\", ha='center')\n",
    "\n",
    "    plt.tight_layout()\n",
    "    plt.show()\n",
    "\n",
    "# 绘制Example 1.2的市场剩余\n",
    "plot_market_surpluses(market_ex1_2, [[4, 5]])"
   ]
  },
  {
   "cell_type": "markdown",
   "id": "cccdc76d",
   "metadata": {},
   "source": [
    "## 5. 阶段一总结\n",
    "\n",
    "### 实现成果\n",
    "1. **核心数据结构**\n",
    "   - 实现Market类表示市场分布\n",
    "   - 实现MarketScheme类表示市场分段方案\n",
    "\n",
    "2. **核心算法**\n",
    "   - 实现PassivePSMax算法\n",
    "   - 实现价格区间可行性验证算法\n",
    "   - 实现针对特定例子的直接验证方法\n",
    "\n",
    "3. **验证成果**\n",
    "   - 成功复现了Example 1.2\n",
    "   - 确认了F = {4, 5}的可行性\n",
    "   - 验证了F = {4}的不可行性\n",
    "\n",
    "### 发现的难点与解决方案\n",
    "1. **算法实现挑战**\n",
    "   - PassivePSMax算法的特殊情况处理\n",
    "   - 对价格区间可行性定义的正确理解\n",
    "\n",
    "2. **特定例子的直接验证**\n",
    "   - 论文中的特定方案可能无法通过通用算法发现\n",
    "   - 需要针对特定例子实现直接验证方法\n",
    "\n",
    "### 下一步计划\n",
    "进入阶段二：价格区间可行性研究\n",
    "1. 设计不同基础分布的市场\n",
    "2. 系统研究不同分布下价格区间的可行性条件\n",
    "3. 分析可行性边界特征"
   ]
  }
 ],
 "metadata": {
  "kernelspec": {
   "display_name": "Python 3 (ipykernel)",
   "language": "python",
   "name": "python3"
  },
  "language_info": {
   "codemirror_mode": {
    "name": "ipython",
    "version": 3
   },
   "file_extension": ".py",
   "mimetype": "text/x-python",
   "name": "python",
   "nbconvert_exporter": "python",
   "pygments_lexer": "ipython3",
   "version": "3.9.19"
  }
 },
 "nbformat": 4,
 "nbformat_minor": 5
}
